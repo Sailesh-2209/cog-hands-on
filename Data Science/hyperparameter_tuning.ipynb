{
 "cells": [
  {
   "cell_type": "code",
   "execution_count": 39,
   "id": "788b84d6-252f-4034-a1b8-f5327b180baf",
   "metadata": {},
   "outputs": [],
   "source": [
    "import os\n",
    "import pandas as pd\n",
    "import numpy as np\n",
    "import matplotlib.pyplot as plt\n",
    "from sklearn.model_selection import train_test_split\n",
    "from sklearn.linear_model import LogisticRegression\n",
    "from sklearn.metrics import accuracy_score\n",
    "\n",
    "%matplotlib inline"
   ]
  },
  {
   "cell_type": "code",
   "execution_count": 15,
   "id": "f159acb3-99ea-4035-bfda-c3c60871f6fc",
   "metadata": {},
   "outputs": [
    {
     "data": {
      "text/html": [
       "<div>\n",
       "<style scoped>\n",
       "    .dataframe tbody tr th:only-of-type {\n",
       "        vertical-align: middle;\n",
       "    }\n",
       "\n",
       "    .dataframe tbody tr th {\n",
       "        vertical-align: top;\n",
       "    }\n",
       "\n",
       "    .dataframe thead th {\n",
       "        text-align: right;\n",
       "    }\n",
       "</style>\n",
       "<table border=\"1\" class=\"dataframe\">\n",
       "  <thead>\n",
       "    <tr style=\"text-align: right;\">\n",
       "      <th></th>\n",
       "      <th>Life</th>\n",
       "      <th>O2</th>\n",
       "      <th>O3</th>\n",
       "      <th>H2O</th>\n",
       "      <th>N2</th>\n",
       "      <th>H2</th>\n",
       "      <th>Sunlight</th>\n",
       "      <th>Aliens</th>\n",
       "      <th>Plants</th>\n",
       "    </tr>\n",
       "  </thead>\n",
       "  <tbody>\n",
       "    <tr>\n",
       "      <th>0</th>\n",
       "      <td>5</td>\n",
       "      <td>6</td>\n",
       "      <td>38</td>\n",
       "      <td>48</td>\n",
       "      <td>25</td>\n",
       "      <td>38</td>\n",
       "      <td>0</td>\n",
       "      <td>1</td>\n",
       "      <td>1</td>\n",
       "    </tr>\n",
       "    <tr>\n",
       "      <th>1</th>\n",
       "      <td>4</td>\n",
       "      <td>0</td>\n",
       "      <td>4</td>\n",
       "      <td>2</td>\n",
       "      <td>6</td>\n",
       "      <td>13</td>\n",
       "      <td>0</td>\n",
       "      <td>1</td>\n",
       "      <td>0</td>\n",
       "    </tr>\n",
       "    <tr>\n",
       "      <th>2</th>\n",
       "      <td>4</td>\n",
       "      <td>11</td>\n",
       "      <td>3</td>\n",
       "      <td>78</td>\n",
       "      <td>30</td>\n",
       "      <td>15</td>\n",
       "      <td>0</td>\n",
       "      <td>0</td>\n",
       "      <td>1</td>\n",
       "    </tr>\n",
       "    <tr>\n",
       "      <th>3</th>\n",
       "      <td>0</td>\n",
       "      <td>22</td>\n",
       "      <td>30</td>\n",
       "      <td>68</td>\n",
       "      <td>28</td>\n",
       "      <td>23</td>\n",
       "      <td>0</td>\n",
       "      <td>1</td>\n",
       "      <td>0</td>\n",
       "    </tr>\n",
       "    <tr>\n",
       "      <th>4</th>\n",
       "      <td>10</td>\n",
       "      <td>20</td>\n",
       "      <td>23</td>\n",
       "      <td>56</td>\n",
       "      <td>20</td>\n",
       "      <td>27</td>\n",
       "      <td>1</td>\n",
       "      <td>0</td>\n",
       "      <td>1</td>\n",
       "    </tr>\n",
       "  </tbody>\n",
       "</table>\n",
       "</div>"
      ],
      "text/plain": [
       "   Life  O2  O3  H2O  N2  H2  Sunlight  Aliens  Plants\n",
       "0     5   6  38   48  25  38         0       1       1\n",
       "1     4   0   4    2   6  13         0       1       0\n",
       "2     4  11   3   78  30  15         0       0       1\n",
       "3     0  22  30   68  28  23         0       1       0\n",
       "4    10  20  23   56  20  27         1       0       1"
      ]
     },
     "execution_count": 15,
     "metadata": {},
     "output_type": "execute_result"
    }
   ],
   "source": [
    "file_path = os.path.join(os.getcwd(), 'data', 'LifeUniverseAndEverything.xlsx')\n",
    "df = pd.read_excel(file_path)\n",
    "df.head()"
   ]
  },
  {
   "cell_type": "code",
   "execution_count": 24,
   "id": "f926d763-00d0-4c92-a2bb-a5c3b06d8731",
   "metadata": {},
   "outputs": [],
   "source": [
    "X = df.drop('Life', axis=1)\n",
    "y = df['Life']"
   ]
  },
  {
   "cell_type": "code",
   "execution_count": 25,
   "id": "b30ce3ec-f644-4033-b6d5-a80360951938",
   "metadata": {},
   "outputs": [],
   "source": [
    "X_train, X_test, y_train, y_test = train_test_split(X, y, test_size=0.2)"
   ]
  },
  {
   "cell_type": "code",
   "execution_count": 50,
   "id": "507bb24c-7bfb-44e3-afe3-5bc71ee8db5b",
   "metadata": {},
   "outputs": [],
   "source": [
    "from sklearn.pipeline import Pipeline #sklearn==0.23.2\n",
    "from sklearn.preprocessing import StandardScaler, OneHotEncoder\n",
    "from sklearn.compose import make_column_transformer\n",
    "from lightgbm import LGBMClassifier\n",
    "\n",
    "tuples = list()\n",
    "\n",
    "tuples.append((Pipeline([\n",
    "        ('scaler', StandardScaler()),\n",
    "    ]), ['O2', 'O3', 'H2O', 'N2', 'H2']))\n",
    "\n",
    "preprocess = make_column_transformer(*tuples)\n",
    "\n",
    "pipe = Pipeline([\n",
    "    ('preprocess', preprocess),\n",
    "    ('classifier', LGBMClassifier())\n",
    "])"
   ]
  },
  {
   "cell_type": "code",
   "execution_count": 51,
   "id": "10ed803d-8563-416b-a5cb-8902040dda1d",
   "metadata": {},
   "outputs": [
    {
     "name": "stderr",
     "output_type": "stream",
     "text": [
      "C:\\users\\saile\\Documents\\sailesh\\Work\\Cognizant\\Training\\Hands On\\venv\\lib\\site-packages\\sklearn\\model_selection\\_search.py:969: UserWarning: One or more of the test scores are non-finite: [nan nan nan nan nan nan nan nan nan nan nan nan nan nan nan nan nan nan\n",
      " nan nan nan nan nan nan nan nan nan nan nan nan nan nan nan nan nan nan\n",
      " nan nan nan nan nan nan nan nan nan nan nan nan nan nan nan nan nan nan\n",
      " nan nan nan nan nan nan nan nan nan nan nan nan nan nan nan nan nan nan\n",
      " nan nan nan nan nan nan nan nan nan nan nan nan nan nan nan nan nan nan\n",
      " nan nan nan nan nan nan nan nan nan nan nan nan nan nan nan nan nan nan\n",
      " nan nan nan nan nan nan nan nan nan nan nan nan nan nan nan nan nan]\n",
      "  warnings.warn(\n"
     ]
    }
   ],
   "source": [
    "from sklearn.model_selection import GridSearchCV\n",
    "\n",
    "param_grid = {\n",
    "    \"classifier__learning_rate\": [0.0001, 0.0005, 0.001, 0.01, 0.1],\n",
    "    \"classifier__n_estimators\": [100, 300, 600, 800, 1000],\n",
    "    \"classifier__max_depth\": [ 4, 20, 100, 250, 400] \n",
    "}\n",
    "\n",
    "# grid\n",
    "reg_grid = GridSearchCV(pipe,\n",
    "                        param_grid=param_grid,\n",
    "                        cv=5,\n",
    "                        n_jobs=8, \n",
    "                        scoring='roc_auc'\n",
    "                       )\n",
    "\n",
    "model_grid = reg_grid.fit(X, y)"
   ]
  },
  {
   "cell_type": "code",
   "execution_count": 52,
   "id": "a028c6e6-7efa-4378-8779-c61ac859f9c0",
   "metadata": {},
   "outputs": [
    {
     "name": "stderr",
     "output_type": "stream",
     "text": [
      "C:\\users\\saile\\Documents\\sailesh\\Work\\Cognizant\\Training\\Hands On\\venv\\lib\\site-packages\\sklearn\\model_selection\\_search.py:969: UserWarning: One or more of the test scores are non-finite: [nan nan nan nan nan nan nan nan nan nan nan nan nan nan nan nan nan nan\n",
      " nan nan nan nan nan nan nan nan nan nan nan nan nan nan nan nan nan nan\n",
      " nan nan nan nan nan nan nan nan nan nan nan nan nan nan nan nan nan nan\n",
      " nan nan nan nan nan nan nan nan nan nan nan nan nan nan nan nan]\n",
      "  warnings.warn(\n"
     ]
    }
   ],
   "source": [
    "from sklearn.model_selection import RandomizedSearchCV\n",
    "from scipy.stats import loguniform, randint\n",
    "\n",
    "n_iter = 70\n",
    "\n",
    "param_grid = {\n",
    "    \"classifier__learning_rate\": loguniform(1e-4, 0.1),\n",
    "    \"classifier__n_estimators\": randint(100,1000),\n",
    "    \"classifier__max_depth\": randint(4, 400) \n",
    "}\n",
    "\n",
    "# Random\n",
    "reg_rand = RandomizedSearchCV(pipe,\n",
    "                         param_distributions=param_grid,\n",
    "                         n_iter=n_iter,\n",
    "                         cv=5,\n",
    "                         n_jobs=8,\n",
    "                         scoring='roc_auc',\n",
    "                         random_state=123)\n",
    "\n",
    "model_rand = reg_rand.fit(X, y)"
   ]
  },
  {
   "cell_type": "code",
   "execution_count": null,
   "id": "c10b4120-9875-44a4-addb-fbbca51956ff",
   "metadata": {},
   "outputs": [],
   "source": [
    "from skopt import BayesSearchCV\n",
    "\n",
    "# Bayesian\n",
    "n_iter = 70\n",
    "\n",
    "param_grid = {\n",
    "    \"classifier__learning_rate\": (0.0001, 0.1, \"log-uniform\"),\n",
    "    \"classifier__n_estimators\": (100,  1000) ,\n",
    "    \"classifier__max_depth\": (4, 400) \n",
    "}\n",
    "\n",
    "reg_bay = BayesSearchCV(estimator=pipe,\n",
    "                    search_spaces=param_grid,\n",
    "                    n_iter=n_iter,\n",
    "                    cv=5,\n",
    "                    n_jobs=8,\n",
    "                    scoring='roc_auc',\n",
    "                    random_state=123)\n",
    "\n",
    "model_bay = reg_bay.fit(X, y)"
   ]
  },
  {
   "cell_type": "code",
   "execution_count": 54,
   "id": "88e3a823-39e5-4081-94c7-5f00c8f89f4b",
   "metadata": {},
   "outputs": [
    {
     "ename": "NameError",
     "evalue": "name 'model_bay' is not defined",
     "output_type": "error",
     "traceback": [
      "\u001b[1;31m---------------------------------------------------------------------------\u001b[0m",
      "\u001b[1;31mNameError\u001b[0m                                 Traceback (most recent call last)",
      "Input \u001b[1;32mIn [54]\u001b[0m, in \u001b[0;36m<cell line: 5>\u001b[1;34m()\u001b[0m\n\u001b[0;32m      3\u001b[0m grid \u001b[38;5;241m=\u001b[39m model_grid\u001b[38;5;241m.\u001b[39mcv_results_[param]\n\u001b[0;32m      4\u001b[0m rand \u001b[38;5;241m=\u001b[39m model_rand\u001b[38;5;241m.\u001b[39mcv_results_[param]\n\u001b[1;32m----> 5\u001b[0m bay \u001b[38;5;241m=\u001b[39m \u001b[43mmodel_bay\u001b[49m\u001b[38;5;241m.\u001b[39mcv_results_[param]\n\u001b[0;32m      7\u001b[0m fig \u001b[38;5;241m=\u001b[39m plt\u001b[38;5;241m.\u001b[39mfigure(figsize\u001b[38;5;241m=\u001b[39m(\u001b[38;5;241m15\u001b[39m, \u001b[38;5;241m7\u001b[39m))\n\u001b[0;32m      9\u001b[0m ax \u001b[38;5;241m=\u001b[39m plt\u001b[38;5;241m.\u001b[39mgca()\n",
      "\u001b[1;31mNameError\u001b[0m: name 'model_bay' is not defined"
     ]
    },
    {
     "name": "stdout",
     "output_type": "stream",
     "text": [
      "ERROR! Session/line number was not unique in database. History logging moved to new session 26\n"
     ]
    }
   ],
   "source": [
    "param = 'param_classifier__learning_rate'\n",
    "\n",
    "grid = model_grid.cv_results_[param]\n",
    "rand = model_rand.cv_results_[param]\n",
    "bay = model_bay.cv_results_[param]\n",
    "\n",
    "fig = plt.figure(figsize=(15, 7))\n",
    "\n",
    "ax = plt.gca()\n",
    "ax.scatter(np.arange(len(grid)), grid.data, c='b', s=20, label='grid');\n",
    "ax.scatter(np.arange(len(rand)), rand.data, c='r', s=20, label='random');\n",
    "ax.scatter(np.arange(len(bay)), bay, c='g', s=20, label='bayesian');\n",
    "ax.set_yscale('log')\n",
    "\n",
    "plt.legend();\n",
    "plt.title(param);"
   ]
  },
  {
   "cell_type": "code",
   "execution_count": null,
   "id": "7ad874c7-8226-4b9a-b6fb-18ca72b457d2",
   "metadata": {},
   "outputs": [],
   "source": []
  }
 ],
 "metadata": {
  "kernelspec": {
   "display_name": "Python 3 (ipykernel)",
   "language": "python",
   "name": "python3"
  },
  "language_info": {
   "codemirror_mode": {
    "name": "ipython",
    "version": 3
   },
   "file_extension": ".py",
   "mimetype": "text/x-python",
   "name": "python",
   "nbconvert_exporter": "python",
   "pygments_lexer": "ipython3",
   "version": "3.10.2"
  }
 },
 "nbformat": 4,
 "nbformat_minor": 5
}
