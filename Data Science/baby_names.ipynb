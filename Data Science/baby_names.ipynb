{
 "cells": [
  {
   "cell_type": "markdown",
   "id": "e3551c69-d1a4-4b40-a5c7-6723319c8cb2",
   "metadata": {},
   "source": [
    "# Baby names\n",
    "\n",
    "## Assignment 1 for 23-03-2022\n",
    "\n",
    "1. Dataset: https://raw.githubusercontent.com/guipsamora/pandas_exercises/master/06_Stats/US_Baby_Names/US_Baby_Names_right.csv \n",
    "2. Questions: https://github.com/a-forty-two/COG_GN22CDBDS001_MARCH_22/blob/main/stats_US_Baby_names.ipynb \n",
    "3. Solutions: https://github.com/a-forty-two/COG_GN22CDBDS001_MARCH_22/blob/main/stats_US_Baby_names_solution.ipynb "
   ]
  },
  {
   "cell_type": "markdown",
   "id": "1ba211e8-2fa6-49f7-8a6d-0df7341d564f",
   "metadata": {
    "tags": []
   },
   "source": [
    "# Step 1. Import the necessary libraryies"
   ]
  },
  {
   "cell_type": "code",
   "execution_count": 1,
   "id": "0395b3a0-a8ff-41f6-8803-0cd041dce7a2",
   "metadata": {},
   "outputs": [],
   "source": [
    "import pandas as pd\n",
    "import matplotlib.pyplot as plt\n",
    "from collections import Counter"
   ]
  },
  {
   "cell_type": "markdown",
   "id": "7ec47ceb-d2ca-4d34-8147-a3d2320391f9",
   "metadata": {},
   "source": [
    "# Step 2. Import the dataset from this address\n",
    "# Step 3. Assign it to a variable called baby_names"
   ]
  },
  {
   "cell_type": "code",
   "execution_count": 2,
   "id": "08a3b5a1-a1b4-4eca-b3df-e27af2215645",
   "metadata": {},
   "outputs": [],
   "source": [
    "baby_names = pd.read_csv('https://raw.githubusercontent.com/guipsamora/pandas_exercises/master/06_Stats/US_Baby_Names/US_Baby_Names_right.csv')"
   ]
  },
  {
   "cell_type": "markdown",
   "id": "42d80e5f-3efe-4fa1-bb0b-d1e46fbb8e7c",
   "metadata": {},
   "source": [
    "# Step 4. See the first 10 entries"
   ]
  },
  {
   "cell_type": "code",
   "execution_count": 3,
   "id": "d78ff2a9-4873-42c4-84b6-929cf1faa3c1",
   "metadata": {},
   "outputs": [
    {
     "data": {
      "text/html": [
       "<div>\n",
       "<style scoped>\n",
       "    .dataframe tbody tr th:only-of-type {\n",
       "        vertical-align: middle;\n",
       "    }\n",
       "\n",
       "    .dataframe tbody tr th {\n",
       "        vertical-align: top;\n",
       "    }\n",
       "\n",
       "    .dataframe thead th {\n",
       "        text-align: right;\n",
       "    }\n",
       "</style>\n",
       "<table border=\"1\" class=\"dataframe\">\n",
       "  <thead>\n",
       "    <tr style=\"text-align: right;\">\n",
       "      <th></th>\n",
       "      <th>Unnamed: 0</th>\n",
       "      <th>Id</th>\n",
       "      <th>Name</th>\n",
       "      <th>Year</th>\n",
       "      <th>Gender</th>\n",
       "      <th>State</th>\n",
       "      <th>Count</th>\n",
       "    </tr>\n",
       "  </thead>\n",
       "  <tbody>\n",
       "    <tr>\n",
       "      <th>0</th>\n",
       "      <td>11349</td>\n",
       "      <td>11350</td>\n",
       "      <td>Emma</td>\n",
       "      <td>2004</td>\n",
       "      <td>F</td>\n",
       "      <td>AK</td>\n",
       "      <td>62</td>\n",
       "    </tr>\n",
       "    <tr>\n",
       "      <th>1</th>\n",
       "      <td>11350</td>\n",
       "      <td>11351</td>\n",
       "      <td>Madison</td>\n",
       "      <td>2004</td>\n",
       "      <td>F</td>\n",
       "      <td>AK</td>\n",
       "      <td>48</td>\n",
       "    </tr>\n",
       "    <tr>\n",
       "      <th>2</th>\n",
       "      <td>11351</td>\n",
       "      <td>11352</td>\n",
       "      <td>Hannah</td>\n",
       "      <td>2004</td>\n",
       "      <td>F</td>\n",
       "      <td>AK</td>\n",
       "      <td>46</td>\n",
       "    </tr>\n",
       "    <tr>\n",
       "      <th>3</th>\n",
       "      <td>11352</td>\n",
       "      <td>11353</td>\n",
       "      <td>Grace</td>\n",
       "      <td>2004</td>\n",
       "      <td>F</td>\n",
       "      <td>AK</td>\n",
       "      <td>44</td>\n",
       "    </tr>\n",
       "    <tr>\n",
       "      <th>4</th>\n",
       "      <td>11353</td>\n",
       "      <td>11354</td>\n",
       "      <td>Emily</td>\n",
       "      <td>2004</td>\n",
       "      <td>F</td>\n",
       "      <td>AK</td>\n",
       "      <td>41</td>\n",
       "    </tr>\n",
       "    <tr>\n",
       "      <th>5</th>\n",
       "      <td>11354</td>\n",
       "      <td>11355</td>\n",
       "      <td>Abigail</td>\n",
       "      <td>2004</td>\n",
       "      <td>F</td>\n",
       "      <td>AK</td>\n",
       "      <td>37</td>\n",
       "    </tr>\n",
       "    <tr>\n",
       "      <th>6</th>\n",
       "      <td>11355</td>\n",
       "      <td>11356</td>\n",
       "      <td>Olivia</td>\n",
       "      <td>2004</td>\n",
       "      <td>F</td>\n",
       "      <td>AK</td>\n",
       "      <td>33</td>\n",
       "    </tr>\n",
       "    <tr>\n",
       "      <th>7</th>\n",
       "      <td>11356</td>\n",
       "      <td>11357</td>\n",
       "      <td>Isabella</td>\n",
       "      <td>2004</td>\n",
       "      <td>F</td>\n",
       "      <td>AK</td>\n",
       "      <td>30</td>\n",
       "    </tr>\n",
       "    <tr>\n",
       "      <th>8</th>\n",
       "      <td>11357</td>\n",
       "      <td>11358</td>\n",
       "      <td>Alyssa</td>\n",
       "      <td>2004</td>\n",
       "      <td>F</td>\n",
       "      <td>AK</td>\n",
       "      <td>29</td>\n",
       "    </tr>\n",
       "    <tr>\n",
       "      <th>9</th>\n",
       "      <td>11358</td>\n",
       "      <td>11359</td>\n",
       "      <td>Sophia</td>\n",
       "      <td>2004</td>\n",
       "      <td>F</td>\n",
       "      <td>AK</td>\n",
       "      <td>28</td>\n",
       "    </tr>\n",
       "  </tbody>\n",
       "</table>\n",
       "</div>"
      ],
      "text/plain": [
       "   Unnamed: 0     Id      Name  Year Gender State  Count\n",
       "0       11349  11350      Emma  2004      F    AK     62\n",
       "1       11350  11351   Madison  2004      F    AK     48\n",
       "2       11351  11352    Hannah  2004      F    AK     46\n",
       "3       11352  11353     Grace  2004      F    AK     44\n",
       "4       11353  11354     Emily  2004      F    AK     41\n",
       "5       11354  11355   Abigail  2004      F    AK     37\n",
       "6       11355  11356    Olivia  2004      F    AK     33\n",
       "7       11356  11357  Isabella  2004      F    AK     30\n",
       "8       11357  11358    Alyssa  2004      F    AK     29\n",
       "9       11358  11359    Sophia  2004      F    AK     28"
      ]
     },
     "execution_count": 3,
     "metadata": {},
     "output_type": "execute_result"
    }
   ],
   "source": [
    "baby_names.head(10)"
   ]
  },
  {
   "cell_type": "markdown",
   "id": "1d5afd1f-7250-4540-85fc-0c1478f46d80",
   "metadata": {},
   "source": [
    "# Step 5. Delete the column named 'Unnamed: 0' and 'Id'"
   ]
  },
  {
   "cell_type": "code",
   "execution_count": 4,
   "id": "4c15b829-1c91-4704-9760-7e6969b128e6",
   "metadata": {},
   "outputs": [],
   "source": [
    "baby_names.drop('Unnamed: 0', axis=1, inplace=True)\n",
    "baby_names.drop('Id', axis=1, inplace=True)"
   ]
  },
  {
   "cell_type": "markdown",
   "id": "cb03d343-8181-4ace-bdb8-4bf39d314f7b",
   "metadata": {},
   "source": [
    "# Step 6. Is there more male names or female names in the dataset"
   ]
  },
  {
   "cell_type": "code",
   "execution_count": 5,
   "id": "199429a1-011e-4cd1-9d81-7a93549eea99",
   "metadata": {},
   "outputs": [
    {
     "name": "stdout",
     "output_type": "stream",
     "text": [
      "There are more males than females\n"
     ]
    }
   ],
   "source": [
    "num_males = baby_names['Gender'].value_counts()['F']\n",
    "num_females = baby_names['Gender'].value_counts()['M']\n",
    "if (num_males > num_females):\n",
    "    print(\"There are more males than females\")\n",
    "elif (num_females > num_males):\n",
    "    print(\"There are more females than males\")\n",
    "else:\n",
    "    print(\"There are equal number of males and females\")"
   ]
  },
  {
   "cell_type": "markdown",
   "id": "8ec0bf53-2480-4562-b8a8-9bef822b3757",
   "metadata": {},
   "source": [
    "# Step 7. Group the dataset by names and assign to names"
   ]
  },
  {
   "cell_type": "code",
   "execution_count": 6,
   "id": "a35df4df-7260-42f8-9c79-6404477cb5a0",
   "metadata": {},
   "outputs": [
    {
     "data": {
      "text/html": [
       "<div>\n",
       "<style scoped>\n",
       "    .dataframe tbody tr th:only-of-type {\n",
       "        vertical-align: middle;\n",
       "    }\n",
       "\n",
       "    .dataframe tbody tr th {\n",
       "        vertical-align: top;\n",
       "    }\n",
       "\n",
       "    .dataframe thead th {\n",
       "        text-align: right;\n",
       "    }\n",
       "</style>\n",
       "<table border=\"1\" class=\"dataframe\">\n",
       "  <thead>\n",
       "    <tr style=\"text-align: right;\">\n",
       "      <th></th>\n",
       "      <th>Count</th>\n",
       "    </tr>\n",
       "    <tr>\n",
       "      <th>Name</th>\n",
       "      <th></th>\n",
       "    </tr>\n",
       "  </thead>\n",
       "  <tbody>\n",
       "    <tr>\n",
       "      <th>Aaban</th>\n",
       "      <td>12</td>\n",
       "    </tr>\n",
       "    <tr>\n",
       "      <th>Aadan</th>\n",
       "      <td>23</td>\n",
       "    </tr>\n",
       "    <tr>\n",
       "      <th>Aadarsh</th>\n",
       "      <td>5</td>\n",
       "    </tr>\n",
       "    <tr>\n",
       "      <th>Aaden</th>\n",
       "      <td>3426</td>\n",
       "    </tr>\n",
       "    <tr>\n",
       "      <th>Aadhav</th>\n",
       "      <td>6</td>\n",
       "    </tr>\n",
       "    <tr>\n",
       "      <th>...</th>\n",
       "      <td>...</td>\n",
       "    </tr>\n",
       "    <tr>\n",
       "      <th>Zyra</th>\n",
       "      <td>42</td>\n",
       "    </tr>\n",
       "    <tr>\n",
       "      <th>Zyrah</th>\n",
       "      <td>11</td>\n",
       "    </tr>\n",
       "    <tr>\n",
       "      <th>Zyren</th>\n",
       "      <td>6</td>\n",
       "    </tr>\n",
       "    <tr>\n",
       "      <th>Zyria</th>\n",
       "      <td>59</td>\n",
       "    </tr>\n",
       "    <tr>\n",
       "      <th>Zyriah</th>\n",
       "      <td>58</td>\n",
       "    </tr>\n",
       "  </tbody>\n",
       "</table>\n",
       "<p>17632 rows × 1 columns</p>\n",
       "</div>"
      ],
      "text/plain": [
       "         Count\n",
       "Name          \n",
       "Aaban       12\n",
       "Aadan       23\n",
       "Aadarsh      5\n",
       "Aaden     3426\n",
       "Aadhav       6\n",
       "...        ...\n",
       "Zyra        42\n",
       "Zyrah       11\n",
       "Zyren        6\n",
       "Zyria       59\n",
       "Zyriah      58\n",
       "\n",
       "[17632 rows x 1 columns]"
      ]
     },
     "execution_count": 6,
     "metadata": {},
     "output_type": "execute_result"
    }
   ],
   "source": [
    "baby_names.drop('Year', axis=1, inplace=True)\n",
    "names = baby_names.groupby('Name').sum()\n",
    "names"
   ]
  },
  {
   "cell_type": "markdown",
   "id": "bb4337e9-ee77-4160-871b-515438011c7b",
   "metadata": {},
   "source": [
    "# Step 8. How many different names exist in the dataset"
   ]
  },
  {
   "cell_type": "code",
   "execution_count": 7,
   "id": "899e0859-e169-4056-a302-7b42e0fc05e0",
   "metadata": {},
   "outputs": [
    {
     "data": {
      "text/plain": [
       "17632"
      ]
     },
     "execution_count": 7,
     "metadata": {},
     "output_type": "execute_result"
    }
   ],
   "source": [
    "len(names)"
   ]
  },
  {
   "cell_type": "markdown",
   "id": "4f94fe03-3d02-435f-8022-63d95aafac3c",
   "metadata": {},
   "source": [
    "# Step 9. What is the name with the most occurences?"
   ]
  },
  {
   "cell_type": "code",
   "execution_count": 8,
   "id": "1ef58783-df04-41bd-affc-0baf8de2b597",
   "metadata": {},
   "outputs": [
    {
     "data": {
      "text/html": [
       "<div>\n",
       "<style scoped>\n",
       "    .dataframe tbody tr th:only-of-type {\n",
       "        vertical-align: middle;\n",
       "    }\n",
       "\n",
       "    .dataframe tbody tr th {\n",
       "        vertical-align: top;\n",
       "    }\n",
       "\n",
       "    .dataframe thead th {\n",
       "        text-align: right;\n",
       "    }\n",
       "</style>\n",
       "<table border=\"1\" class=\"dataframe\">\n",
       "  <thead>\n",
       "    <tr style=\"text-align: right;\">\n",
       "      <th></th>\n",
       "      <th>Count</th>\n",
       "    </tr>\n",
       "    <tr>\n",
       "      <th>Name</th>\n",
       "      <th></th>\n",
       "    </tr>\n",
       "  </thead>\n",
       "  <tbody>\n",
       "    <tr>\n",
       "      <th>Jacob</th>\n",
       "      <td>242874</td>\n",
       "    </tr>\n",
       "  </tbody>\n",
       "</table>\n",
       "</div>"
      ],
      "text/plain": [
       "        Count\n",
       "Name         \n",
       "Jacob  242874"
      ]
     },
     "execution_count": 8,
     "metadata": {},
     "output_type": "execute_result"
    }
   ],
   "source": [
    "names[names.Count == names.Count.max()]"
   ]
  },
  {
   "cell_type": "markdown",
   "id": "5f34483b-bae4-45a0-9ecf-0029ffe86ba3",
   "metadata": {},
   "source": [
    "# Step 10. How many different names have the least occurences?"
   ]
  },
  {
   "cell_type": "code",
   "execution_count": 9,
   "id": "6c2dac15-ce5e-4524-8fb3-55f54735f20a",
   "metadata": {},
   "outputs": [
    {
     "data": {
      "text/plain": [
       "2578"
      ]
     },
     "execution_count": 9,
     "metadata": {},
     "output_type": "execute_result"
    }
   ],
   "source": [
    "len(names[names.Count == names.Count.min()])"
   ]
  },
  {
   "cell_type": "markdown",
   "id": "ba91a399-02a2-468f-a94a-be52c2b1009d",
   "metadata": {},
   "source": [
    "# Step 11. What is the median name occurence?"
   ]
  },
  {
   "cell_type": "code",
   "execution_count": 10,
   "id": "34951cef-2896-4bf8-8874-a84d49fe5728",
   "metadata": {},
   "outputs": [
    {
     "data": {
      "text/plain": [
       "49.0"
      ]
     },
     "execution_count": 10,
     "metadata": {},
     "output_type": "execute_result"
    }
   ],
   "source": [
    "names.Count.median()"
   ]
  },
  {
   "cell_type": "markdown",
   "id": "af31e4df-1e3a-4495-a09f-04511350fd87",
   "metadata": {},
   "source": [
    "# Step 12. What is the standard deviation of names?"
   ]
  },
  {
   "cell_type": "code",
   "execution_count": 11,
   "id": "6d3bf502-c6e6-4a1a-a863-fc9910e72463",
   "metadata": {},
   "outputs": [
    {
     "data": {
      "text/plain": [
       "11006.06946789057"
      ]
     },
     "execution_count": 11,
     "metadata": {},
     "output_type": "execute_result"
    }
   ],
   "source": [
    "names.Count.std()"
   ]
  },
  {
   "cell_type": "markdown",
   "id": "6e4b8778-e2a9-4a62-a081-12284ac84a91",
   "metadata": {},
   "source": [
    "# Step 13. Get a summary with the mean, min, max, std and quarties"
   ]
  },
  {
   "cell_type": "code",
   "execution_count": 12,
   "id": "b8d7105f-e887-4cad-9562-c5a395e02f75",
   "metadata": {},
   "outputs": [
    {
     "data": {
      "text/html": [
       "<div>\n",
       "<style scoped>\n",
       "    .dataframe tbody tr th:only-of-type {\n",
       "        vertical-align: middle;\n",
       "    }\n",
       "\n",
       "    .dataframe tbody tr th {\n",
       "        vertical-align: top;\n",
       "    }\n",
       "\n",
       "    .dataframe thead th {\n",
       "        text-align: right;\n",
       "    }\n",
       "</style>\n",
       "<table border=\"1\" class=\"dataframe\">\n",
       "  <thead>\n",
       "    <tr style=\"text-align: right;\">\n",
       "      <th></th>\n",
       "      <th>Count</th>\n",
       "    </tr>\n",
       "  </thead>\n",
       "  <tbody>\n",
       "    <tr>\n",
       "      <th>count</th>\n",
       "      <td>17632.000000</td>\n",
       "    </tr>\n",
       "    <tr>\n",
       "      <th>mean</th>\n",
       "      <td>2008.932169</td>\n",
       "    </tr>\n",
       "    <tr>\n",
       "      <th>std</th>\n",
       "      <td>11006.069468</td>\n",
       "    </tr>\n",
       "    <tr>\n",
       "      <th>min</th>\n",
       "      <td>5.000000</td>\n",
       "    </tr>\n",
       "    <tr>\n",
       "      <th>25%</th>\n",
       "      <td>11.000000</td>\n",
       "    </tr>\n",
       "    <tr>\n",
       "      <th>50%</th>\n",
       "      <td>49.000000</td>\n",
       "    </tr>\n",
       "    <tr>\n",
       "      <th>75%</th>\n",
       "      <td>337.000000</td>\n",
       "    </tr>\n",
       "    <tr>\n",
       "      <th>max</th>\n",
       "      <td>242874.000000</td>\n",
       "    </tr>\n",
       "  </tbody>\n",
       "</table>\n",
       "</div>"
      ],
      "text/plain": [
       "               Count\n",
       "count   17632.000000\n",
       "mean     2008.932169\n",
       "std     11006.069468\n",
       "min         5.000000\n",
       "25%        11.000000\n",
       "50%        49.000000\n",
       "75%       337.000000\n",
       "max    242874.000000"
      ]
     },
     "execution_count": 12,
     "metadata": {},
     "output_type": "execute_result"
    }
   ],
   "source": [
    "names.describe()"
   ]
  }
 ],
 "metadata": {
  "kernelspec": {
   "display_name": "Python 3 (ipykernel)",
   "language": "python",
   "name": "python3"
  },
  "language_info": {
   "codemirror_mode": {
    "name": "ipython",
    "version": 3
   },
   "file_extension": ".py",
   "mimetype": "text/x-python",
   "name": "python",
   "nbconvert_exporter": "python",
   "pygments_lexer": "ipython3",
   "version": "3.10.2"
  }
 },
 "nbformat": 4,
 "nbformat_minor": 5
}
