{
 "cells": [
  {
   "cell_type": "code",
   "execution_count": 4,
   "id": "a1c59abc-f184-4a50-875b-842c10236430",
   "metadata": {},
   "outputs": [],
   "source": [
    "N = 3"
   ]
  },
  {
   "cell_type": "code",
   "execution_count": 6,
   "id": "222a6d49-b3a0-494a-8d71-7d35ad91eff6",
   "metadata": {},
   "outputs": [
    {
     "data": {
      "text/plain": [
       "['000', '001', '010', '011', '100', '101', '110', '111']"
      ]
     },
     "execution_count": 6,
     "metadata": {},
     "output_type": "execute_result"
    }
   ],
   "source": [
    "# using for loops\n",
    "\n",
    "A = ['0', '1']\n",
    "matrix = A\n",
    "\n",
    "for i in range(N - 1):\n",
    "    new_matrix = []\n",
    "    for val1 in matrix:\n",
    "        for val2 in A:\n",
    "            new_val = val1 + val2\n",
    "            new_matrix.append(new_val)\n",
    "    matrix = new_matrix\n",
    "    \n",
    "matrix"
   ]
  },
  {
   "cell_type": "code",
   "execution_count": 10,
   "id": "29a6c75a-decf-4f92-b75f-85a308cb8a7e",
   "metadata": {},
   "outputs": [
    {
     "data": {
      "text/plain": [
       "['000', '100', '010', '110', '001', '101', '011', '111']"
      ]
     },
     "execution_count": 10,
     "metadata": {},
     "output_type": "execute_result"
    }
   ],
   "source": [
    "# using bit manipulation\n",
    "\n",
    "a = []\n",
    "start = 1 << N\n",
    "end = 1 << (N + 1)\n",
    "for i in range(start, end):\n",
    "    s = ''\n",
    "    for j in range(N):\n",
    "        s += str(i >> j & 1)\n",
    "    a.append(s)\n",
    "\n",
    "a"
   ]
  }
 ],
 "metadata": {
  "kernelspec": {
   "display_name": "Python 3 (ipykernel)",
   "language": "python",
   "name": "python3"
  },
  "language_info": {
   "codemirror_mode": {
    "name": "ipython",
    "version": 3
   },
   "file_extension": ".py",
   "mimetype": "text/x-python",
   "name": "python",
   "nbconvert_exporter": "python",
   "pygments_lexer": "ipython3",
   "version": "3.10.2"
  }
 },
 "nbformat": 4,
 "nbformat_minor": 5
}
