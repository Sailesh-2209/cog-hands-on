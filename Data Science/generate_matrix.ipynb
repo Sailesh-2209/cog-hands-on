{
 "cells": [
  {
   "cell_type": "code",
   "execution_count": 13,
   "id": "222a6d49-b3a0-494a-8d71-7d35ad91eff6",
   "metadata": {},
   "outputs": [
    {
     "name": "stdout",
     "output_type": "stream",
     "text": [
      "Overwriting script1.py\n"
     ]
    }
   ],
   "source": [
    "%%writefile script1.py\n",
    "\n",
    "N = int(input())\n",
    "\n",
    "def generate_matrix(N):\n",
    "    A = ['0', '1']\n",
    "    matrix = A\n",
    "\n",
    "    for i in range(N - 1):\n",
    "        new_matrix = []\n",
    "        for val1 in matrix:\n",
    "            for val2 in A:\n",
    "                new_val = val1 + val2\n",
    "                new_matrix.append(new_val)\n",
    "        matrix = new_matrix\n",
    "\n",
    "    return matrix\n",
    "\n",
    "\n",
    "def generate_matrix_bit_manip(N):\n",
    "    a = []\n",
    "    start = 1 << N\n",
    "    end = 1 << (N + 1)\n",
    "    for i in range(start, end):\n",
    "        s = ''\n",
    "        for j in range(N):\n",
    "            s += str(i >> j & 1)\n",
    "        a.append(s)\n",
    "    return a"
   ]
  }
 ],
 "metadata": {
  "kernelspec": {
   "display_name": "Python 3 (ipykernel)",
   "language": "python",
   "name": "python3"
  },
  "language_info": {
   "codemirror_mode": {
    "name": "ipython",
    "version": 3
   },
   "file_extension": ".py",
   "mimetype": "text/x-python",
   "name": "python",
   "nbconvert_exporter": "python",
   "pygments_lexer": "ipython3",
   "version": "3.10.2"
  }
 },
 "nbformat": 4,
 "nbformat_minor": 5
}
