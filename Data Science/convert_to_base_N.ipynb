{
 "cells": [
  {
   "cell_type": "code",
   "execution_count": 26,
   "id": "18a31b83-9af8-486c-bee8-7349e91d044c",
   "metadata": {},
   "outputs": [
    {
     "name": "stdin",
     "output_type": "stream",
     "text": [
      "Enter the base:  12\n"
     ]
    }
   ],
   "source": [
    "N = int(input(\"Enter the base: \"))\n",
    "if (N >= 17):\n",
    "    raise ValueError(\"Base must be less than 17\")"
   ]
  },
  {
   "cell_type": "code",
   "execution_count": 21,
   "id": "2a9f3d55-534c-40ee-a964-e5b9be5bb128",
   "metadata": {},
   "outputs": [],
   "source": [
    "s = ''\n",
    "def convert(num, base):\n",
    "    if (num == 0):\n",
    "        return '0'\n",
    "    s = ''\n",
    "    n = num\n",
    "    while (n != 0):\n",
    "        rem = n % base\n",
    "        n = n // base\n",
    "        if (rem >= 10):\n",
    "            s += chr(65 + (rem % 10))\n",
    "            pass\n",
    "        else:\n",
    "            s += str(rem)\n",
    "    return s[::-1]"
   ]
  },
  {
   "cell_type": "code",
   "execution_count": 27,
   "id": "ef5af427-eb5b-4ba2-b9a0-ef5467a4a1d7",
   "metadata": {},
   "outputs": [
    {
     "name": "stdout",
     "output_type": "stream",
     "text": [
      "Base 10: 0 \t Base 12: 0\n",
      "Base 10: 1 \t Base 12: 1\n",
      "Base 10: 2 \t Base 12: 2\n",
      "Base 10: 3 \t Base 12: 3\n",
      "Base 10: 4 \t Base 12: 4\n",
      "Base 10: 5 \t Base 12: 5\n",
      "Base 10: 6 \t Base 12: 6\n",
      "Base 10: 7 \t Base 12: 7\n",
      "Base 10: 8 \t Base 12: 8\n",
      "Base 10: 9 \t Base 12: 9\n",
      "Base 10: 10 \t Base 12: A\n",
      "Base 10: 11 \t Base 12: B\n",
      "Base 10: 12 \t Base 12: 10\n",
      "Base 10: 13 \t Base 12: 11\n",
      "Base 10: 14 \t Base 12: 12\n",
      "Base 10: 15 \t Base 12: 13\n",
      "Base 10: 16 \t Base 12: 14\n",
      "Base 10: 17 \t Base 12: 15\n",
      "Base 10: 18 \t Base 12: 16\n",
      "Base 10: 19 \t Base 12: 17\n",
      "Base 10: 20 \t Base 12: 18\n",
      "Base 10: 21 \t Base 12: 19\n",
      "Base 10: 22 \t Base 12: 1A\n",
      "Base 10: 23 \t Base 12: 1B\n",
      "Base 10: 24 \t Base 12: 20\n",
      "Base 10: 25 \t Base 12: 21\n",
      "Base 10: 26 \t Base 12: 22\n",
      "Base 10: 27 \t Base 12: 23\n",
      "Base 10: 28 \t Base 12: 24\n",
      "Base 10: 29 \t Base 12: 25\n",
      "Base 10: 30 \t Base 12: 26\n",
      "Base 10: 31 \t Base 12: 27\n",
      "Base 10: 32 \t Base 12: 28\n",
      "Base 10: 33 \t Base 12: 29\n",
      "Base 10: 34 \t Base 12: 2A\n",
      "Base 10: 35 \t Base 12: 2B\n",
      "Base 10: 36 \t Base 12: 30\n",
      "Base 10: 37 \t Base 12: 31\n",
      "Base 10: 38 \t Base 12: 32\n",
      "Base 10: 39 \t Base 12: 33\n",
      "Base 10: 40 \t Base 12: 34\n",
      "Base 10: 41 \t Base 12: 35\n",
      "Base 10: 42 \t Base 12: 36\n",
      "Base 10: 43 \t Base 12: 37\n",
      "Base 10: 44 \t Base 12: 38\n",
      "Base 10: 45 \t Base 12: 39\n",
      "Base 10: 46 \t Base 12: 3A\n",
      "Base 10: 47 \t Base 12: 3B\n",
      "Base 10: 48 \t Base 12: 40\n",
      "Base 10: 49 \t Base 12: 41\n"
     ]
    }
   ],
   "source": [
    "for i in range(50):\n",
    "    print(f\"Base 10: {i} \\t Base {N}: {convert(i, N)}\")"
   ]
  },
  {
   "cell_type": "code",
   "execution_count": 28,
   "id": "a559e5a4-cd2f-405a-9ddb-1ce086a423a5",
   "metadata": {},
   "outputs": [
    {
     "name": "stdout",
     "output_type": "stream",
     "text": [
      "Writing convert_to_base_N.py\n"
     ]
    }
   ],
   "source": [
    "%%writefile convert_to_base_N.py\n",
    "\n",
    "N = int(input(\"Enter the base: \"))\n",
    "if (N >= 17):\n",
    "    raise ValueError(\"Base must be less than 17\")\n",
    "    \n",
    "s = ''\n",
    "def convert(num, base):\n",
    "    if (num == 0):\n",
    "        return '0'\n",
    "    s = ''\n",
    "    n = num\n",
    "    while (n != 0):\n",
    "        rem = n % base\n",
    "        n = n // base\n",
    "        if (rem >= 10):\n",
    "            s += chr(65 + (rem % 10))\n",
    "            pass\n",
    "        else:\n",
    "            s += str(rem)\n",
    "    return s[::-1]\n",
    "\n",
    "for i in range(50):\n",
    "    print(f\"Base 10: {i} \\t Base {N}: {convert(i, N)}\")"
   ]
  },
  {
   "cell_type": "code",
   "execution_count": null,
   "id": "41e2c756-3a3b-4a5f-a214-f94679c35581",
   "metadata": {},
   "outputs": [],
   "source": []
  }
 ],
 "metadata": {
  "kernelspec": {
   "display_name": "Python 3 (ipykernel)",
   "language": "python",
   "name": "python3"
  },
  "language_info": {
   "codemirror_mode": {
    "name": "ipython",
    "version": 3
   },
   "file_extension": ".py",
   "mimetype": "text/x-python",
   "name": "python",
   "nbconvert_exporter": "python",
   "pygments_lexer": "ipython3",
   "version": "3.10.2"
  }
 },
 "nbformat": 4,
 "nbformat_minor": 5
}
