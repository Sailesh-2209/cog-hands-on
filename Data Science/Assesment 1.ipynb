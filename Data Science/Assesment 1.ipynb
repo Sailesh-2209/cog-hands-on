{
 "cells": [
  {
   "cell_type": "markdown",
   "id": "e252f69d-3e49-456d-88d0-bca28e604e87",
   "metadata": {},
   "source": [
    "# Assessment 1\n",
    "\n",
    "1. Questions: https://github.com/a-forty-two/COG_GN22CDBDS001_MARCH_22/blob/main/Assessment1.ipynb\n",
    "2. Dataset: https://raw.githubusercontent.com/justmarkham/DAT8/master/data/u.user"
   ]
  },
  {
   "cell_type": "markdown",
   "id": "c554481b-7cf8-406c-a60d-37cd9f4aa7ba",
   "metadata": {},
   "source": [
    "# Step 1: Import the necessary libraries"
   ]
  },
  {
   "cell_type": "code",
   "execution_count": 1,
   "id": "6f7b7df6-a7f3-4c21-a478-4d6251c147cf",
   "metadata": {},
   "outputs": [],
   "source": [
    "import pandas as pd"
   ]
  },
  {
   "cell_type": "markdown",
   "id": "5238bd5d-d2ea-4fac-aa18-b4935ec9c724",
   "metadata": {},
   "source": [
    "# Step 2: Import the data from this [address](https://raw.githubusercontent.com/justmarkham/DAT8/master/data/u.user)"
   ]
  },
  {
   "cell_type": "markdown",
   "id": "67db4774-66c6-4804-96de-4916c2c6a0c1",
   "metadata": {},
   "source": [
    "# Step 3: Asssign it to the variable called users and use the 'user_id' as index"
   ]
  },
  {
   "cell_type": "code",
   "execution_count": 2,
   "id": "5cb65134-7560-45e3-bdf3-dcaef0fb9501",
   "metadata": {},
   "outputs": [],
   "source": [
    "users = pd.read_csv('https://raw.githubusercontent.com/justmarkham/DAT8/master/data/u.user', sep='|')\n",
    "users = users.set_index('user_id')"
   ]
  },
  {
   "cell_type": "markdown",
   "id": "1852b377-b96b-4ac4-bca3-87cc8c442005",
   "metadata": {},
   "source": [
    "# Step 4: See the first 25 entries"
   ]
  },
  {
   "cell_type": "code",
   "execution_count": 3,
   "id": "62696ced-b528-4fe4-a927-6837b0be35ec",
   "metadata": {},
   "outputs": [
    {
     "data": {
      "text/html": [
       "<div>\n",
       "<style scoped>\n",
       "    .dataframe tbody tr th:only-of-type {\n",
       "        vertical-align: middle;\n",
       "    }\n",
       "\n",
       "    .dataframe tbody tr th {\n",
       "        vertical-align: top;\n",
       "    }\n",
       "\n",
       "    .dataframe thead th {\n",
       "        text-align: right;\n",
       "    }\n",
       "</style>\n",
       "<table border=\"1\" class=\"dataframe\">\n",
       "  <thead>\n",
       "    <tr style=\"text-align: right;\">\n",
       "      <th></th>\n",
       "      <th>age</th>\n",
       "      <th>gender</th>\n",
       "      <th>occupation</th>\n",
       "      <th>zip_code</th>\n",
       "    </tr>\n",
       "    <tr>\n",
       "      <th>user_id</th>\n",
       "      <th></th>\n",
       "      <th></th>\n",
       "      <th></th>\n",
       "      <th></th>\n",
       "    </tr>\n",
       "  </thead>\n",
       "  <tbody>\n",
       "    <tr>\n",
       "      <th>1</th>\n",
       "      <td>24</td>\n",
       "      <td>M</td>\n",
       "      <td>technician</td>\n",
       "      <td>85711</td>\n",
       "    </tr>\n",
       "    <tr>\n",
       "      <th>2</th>\n",
       "      <td>53</td>\n",
       "      <td>F</td>\n",
       "      <td>other</td>\n",
       "      <td>94043</td>\n",
       "    </tr>\n",
       "    <tr>\n",
       "      <th>3</th>\n",
       "      <td>23</td>\n",
       "      <td>M</td>\n",
       "      <td>writer</td>\n",
       "      <td>32067</td>\n",
       "    </tr>\n",
       "    <tr>\n",
       "      <th>4</th>\n",
       "      <td>24</td>\n",
       "      <td>M</td>\n",
       "      <td>technician</td>\n",
       "      <td>43537</td>\n",
       "    </tr>\n",
       "    <tr>\n",
       "      <th>5</th>\n",
       "      <td>33</td>\n",
       "      <td>F</td>\n",
       "      <td>other</td>\n",
       "      <td>15213</td>\n",
       "    </tr>\n",
       "    <tr>\n",
       "      <th>6</th>\n",
       "      <td>42</td>\n",
       "      <td>M</td>\n",
       "      <td>executive</td>\n",
       "      <td>98101</td>\n",
       "    </tr>\n",
       "    <tr>\n",
       "      <th>7</th>\n",
       "      <td>57</td>\n",
       "      <td>M</td>\n",
       "      <td>administrator</td>\n",
       "      <td>91344</td>\n",
       "    </tr>\n",
       "    <tr>\n",
       "      <th>8</th>\n",
       "      <td>36</td>\n",
       "      <td>M</td>\n",
       "      <td>administrator</td>\n",
       "      <td>05201</td>\n",
       "    </tr>\n",
       "    <tr>\n",
       "      <th>9</th>\n",
       "      <td>29</td>\n",
       "      <td>M</td>\n",
       "      <td>student</td>\n",
       "      <td>01002</td>\n",
       "    </tr>\n",
       "    <tr>\n",
       "      <th>10</th>\n",
       "      <td>53</td>\n",
       "      <td>M</td>\n",
       "      <td>lawyer</td>\n",
       "      <td>90703</td>\n",
       "    </tr>\n",
       "    <tr>\n",
       "      <th>11</th>\n",
       "      <td>39</td>\n",
       "      <td>F</td>\n",
       "      <td>other</td>\n",
       "      <td>30329</td>\n",
       "    </tr>\n",
       "    <tr>\n",
       "      <th>12</th>\n",
       "      <td>28</td>\n",
       "      <td>F</td>\n",
       "      <td>other</td>\n",
       "      <td>06405</td>\n",
       "    </tr>\n",
       "    <tr>\n",
       "      <th>13</th>\n",
       "      <td>47</td>\n",
       "      <td>M</td>\n",
       "      <td>educator</td>\n",
       "      <td>29206</td>\n",
       "    </tr>\n",
       "    <tr>\n",
       "      <th>14</th>\n",
       "      <td>45</td>\n",
       "      <td>M</td>\n",
       "      <td>scientist</td>\n",
       "      <td>55106</td>\n",
       "    </tr>\n",
       "    <tr>\n",
       "      <th>15</th>\n",
       "      <td>49</td>\n",
       "      <td>F</td>\n",
       "      <td>educator</td>\n",
       "      <td>97301</td>\n",
       "    </tr>\n",
       "    <tr>\n",
       "      <th>16</th>\n",
       "      <td>21</td>\n",
       "      <td>M</td>\n",
       "      <td>entertainment</td>\n",
       "      <td>10309</td>\n",
       "    </tr>\n",
       "    <tr>\n",
       "      <th>17</th>\n",
       "      <td>30</td>\n",
       "      <td>M</td>\n",
       "      <td>programmer</td>\n",
       "      <td>06355</td>\n",
       "    </tr>\n",
       "    <tr>\n",
       "      <th>18</th>\n",
       "      <td>35</td>\n",
       "      <td>F</td>\n",
       "      <td>other</td>\n",
       "      <td>37212</td>\n",
       "    </tr>\n",
       "    <tr>\n",
       "      <th>19</th>\n",
       "      <td>40</td>\n",
       "      <td>M</td>\n",
       "      <td>librarian</td>\n",
       "      <td>02138</td>\n",
       "    </tr>\n",
       "    <tr>\n",
       "      <th>20</th>\n",
       "      <td>42</td>\n",
       "      <td>F</td>\n",
       "      <td>homemaker</td>\n",
       "      <td>95660</td>\n",
       "    </tr>\n",
       "    <tr>\n",
       "      <th>21</th>\n",
       "      <td>26</td>\n",
       "      <td>M</td>\n",
       "      <td>writer</td>\n",
       "      <td>30068</td>\n",
       "    </tr>\n",
       "    <tr>\n",
       "      <th>22</th>\n",
       "      <td>25</td>\n",
       "      <td>M</td>\n",
       "      <td>writer</td>\n",
       "      <td>40206</td>\n",
       "    </tr>\n",
       "    <tr>\n",
       "      <th>23</th>\n",
       "      <td>30</td>\n",
       "      <td>F</td>\n",
       "      <td>artist</td>\n",
       "      <td>48197</td>\n",
       "    </tr>\n",
       "    <tr>\n",
       "      <th>24</th>\n",
       "      <td>21</td>\n",
       "      <td>F</td>\n",
       "      <td>artist</td>\n",
       "      <td>94533</td>\n",
       "    </tr>\n",
       "    <tr>\n",
       "      <th>25</th>\n",
       "      <td>39</td>\n",
       "      <td>M</td>\n",
       "      <td>engineer</td>\n",
       "      <td>55107</td>\n",
       "    </tr>\n",
       "  </tbody>\n",
       "</table>\n",
       "</div>"
      ],
      "text/plain": [
       "         age gender     occupation zip_code\n",
       "user_id                                    \n",
       "1         24      M     technician    85711\n",
       "2         53      F          other    94043\n",
       "3         23      M         writer    32067\n",
       "4         24      M     technician    43537\n",
       "5         33      F          other    15213\n",
       "6         42      M      executive    98101\n",
       "7         57      M  administrator    91344\n",
       "8         36      M  administrator    05201\n",
       "9         29      M        student    01002\n",
       "10        53      M         lawyer    90703\n",
       "11        39      F          other    30329\n",
       "12        28      F          other    06405\n",
       "13        47      M       educator    29206\n",
       "14        45      M      scientist    55106\n",
       "15        49      F       educator    97301\n",
       "16        21      M  entertainment    10309\n",
       "17        30      M     programmer    06355\n",
       "18        35      F          other    37212\n",
       "19        40      M      librarian    02138\n",
       "20        42      F      homemaker    95660\n",
       "21        26      M         writer    30068\n",
       "22        25      M         writer    40206\n",
       "23        30      F         artist    48197\n",
       "24        21      F         artist    94533\n",
       "25        39      M       engineer    55107"
      ]
     },
     "execution_count": 3,
     "metadata": {},
     "output_type": "execute_result"
    }
   ],
   "source": [
    "users.head(25)"
   ]
  },
  {
   "cell_type": "markdown",
   "id": "f6f77011-7f16-421b-9440-2e1cd5cdf6c8",
   "metadata": {},
   "source": [
    "# Step 5: See the last 10 entries"
   ]
  },
  {
   "cell_type": "code",
   "execution_count": 4,
   "id": "913c936e-66cb-4570-ac5f-bb9885b8c3fd",
   "metadata": {},
   "outputs": [
    {
     "data": {
      "text/html": [
       "<div>\n",
       "<style scoped>\n",
       "    .dataframe tbody tr th:only-of-type {\n",
       "        vertical-align: middle;\n",
       "    }\n",
       "\n",
       "    .dataframe tbody tr th {\n",
       "        vertical-align: top;\n",
       "    }\n",
       "\n",
       "    .dataframe thead th {\n",
       "        text-align: right;\n",
       "    }\n",
       "</style>\n",
       "<table border=\"1\" class=\"dataframe\">\n",
       "  <thead>\n",
       "    <tr style=\"text-align: right;\">\n",
       "      <th></th>\n",
       "      <th>age</th>\n",
       "      <th>gender</th>\n",
       "      <th>occupation</th>\n",
       "      <th>zip_code</th>\n",
       "    </tr>\n",
       "    <tr>\n",
       "      <th>user_id</th>\n",
       "      <th></th>\n",
       "      <th></th>\n",
       "      <th></th>\n",
       "      <th></th>\n",
       "    </tr>\n",
       "  </thead>\n",
       "  <tbody>\n",
       "    <tr>\n",
       "      <th>934</th>\n",
       "      <td>61</td>\n",
       "      <td>M</td>\n",
       "      <td>engineer</td>\n",
       "      <td>22902</td>\n",
       "    </tr>\n",
       "    <tr>\n",
       "      <th>935</th>\n",
       "      <td>42</td>\n",
       "      <td>M</td>\n",
       "      <td>doctor</td>\n",
       "      <td>66221</td>\n",
       "    </tr>\n",
       "    <tr>\n",
       "      <th>936</th>\n",
       "      <td>24</td>\n",
       "      <td>M</td>\n",
       "      <td>other</td>\n",
       "      <td>32789</td>\n",
       "    </tr>\n",
       "    <tr>\n",
       "      <th>937</th>\n",
       "      <td>48</td>\n",
       "      <td>M</td>\n",
       "      <td>educator</td>\n",
       "      <td>98072</td>\n",
       "    </tr>\n",
       "    <tr>\n",
       "      <th>938</th>\n",
       "      <td>38</td>\n",
       "      <td>F</td>\n",
       "      <td>technician</td>\n",
       "      <td>55038</td>\n",
       "    </tr>\n",
       "    <tr>\n",
       "      <th>939</th>\n",
       "      <td>26</td>\n",
       "      <td>F</td>\n",
       "      <td>student</td>\n",
       "      <td>33319</td>\n",
       "    </tr>\n",
       "    <tr>\n",
       "      <th>940</th>\n",
       "      <td>32</td>\n",
       "      <td>M</td>\n",
       "      <td>administrator</td>\n",
       "      <td>02215</td>\n",
       "    </tr>\n",
       "    <tr>\n",
       "      <th>941</th>\n",
       "      <td>20</td>\n",
       "      <td>M</td>\n",
       "      <td>student</td>\n",
       "      <td>97229</td>\n",
       "    </tr>\n",
       "    <tr>\n",
       "      <th>942</th>\n",
       "      <td>48</td>\n",
       "      <td>F</td>\n",
       "      <td>librarian</td>\n",
       "      <td>78209</td>\n",
       "    </tr>\n",
       "    <tr>\n",
       "      <th>943</th>\n",
       "      <td>22</td>\n",
       "      <td>M</td>\n",
       "      <td>student</td>\n",
       "      <td>77841</td>\n",
       "    </tr>\n",
       "  </tbody>\n",
       "</table>\n",
       "</div>"
      ],
      "text/plain": [
       "         age gender     occupation zip_code\n",
       "user_id                                    \n",
       "934       61      M       engineer    22902\n",
       "935       42      M         doctor    66221\n",
       "936       24      M          other    32789\n",
       "937       48      M       educator    98072\n",
       "938       38      F     technician    55038\n",
       "939       26      F        student    33319\n",
       "940       32      M  administrator    02215\n",
       "941       20      M        student    97229\n",
       "942       48      F      librarian    78209\n",
       "943       22      M        student    77841"
      ]
     },
     "execution_count": 4,
     "metadata": {},
     "output_type": "execute_result"
    }
   ],
   "source": [
    "users.tail(10)"
   ]
  },
  {
   "cell_type": "markdown",
   "id": "23abd72e-419e-4242-9d1b-788a485d4d0d",
   "metadata": {},
   "source": [
    "# Step 6: What is the number of observations in the dataset"
   ]
  },
  {
   "cell_type": "code",
   "execution_count": 5,
   "id": "14d01db0-d83f-415f-9da3-73cb14b19ca6",
   "metadata": {},
   "outputs": [
    {
     "name": "stdout",
     "output_type": "stream",
     "text": [
      "943\n"
     ]
    }
   ],
   "source": [
    "print(len(users.index))"
   ]
  },
  {
   "cell_type": "markdown",
   "id": "9c4f8d90-314d-435a-b55c-fe21d18b110a",
   "metadata": {},
   "source": [
    "# Step 7: What is the number of columns in the dataset"
   ]
  },
  {
   "cell_type": "code",
   "execution_count": 6,
   "id": "d1c24aa7-0bd4-4860-9884-5b0d43cb6146",
   "metadata": {},
   "outputs": [
    {
     "name": "stdout",
     "output_type": "stream",
     "text": [
      "4\n"
     ]
    }
   ],
   "source": [
    "print(len(users.columns))"
   ]
  },
  {
   "cell_type": "markdown",
   "id": "0122eb4d-c819-481d-be51-a22657e4058f",
   "metadata": {},
   "source": [
    "# Step 8: Print the name of all the columns"
   ]
  },
  {
   "cell_type": "code",
   "execution_count": 7,
   "id": "8d81e808-2281-4366-beeb-3c6a7c524d32",
   "metadata": {},
   "outputs": [
    {
     "name": "stdout",
     "output_type": "stream",
     "text": [
      "['age', 'gender', 'occupation', 'zip_code']\n"
     ]
    }
   ],
   "source": [
    "print(list(users.columns))"
   ]
  },
  {
   "cell_type": "markdown",
   "id": "0e4c3704-82a4-4acf-ab75-636c0677a497",
   "metadata": {},
   "source": [
    "# Step 9: How is the dataset indexed?"
   ]
  },
  {
   "cell_type": "markdown",
   "id": "fe300bff-7590-4c9a-82ca-d881261c3337",
   "metadata": {},
   "source": [
    "Dataset is indexed by the user_id column"
   ]
  },
  {
   "cell_type": "markdown",
   "id": "ed4c7723-5a22-4bd0-8aea-31f148355144",
   "metadata": {},
   "source": [
    "# Step 10: What is the datatype of each column?"
   ]
  },
  {
   "cell_type": "code",
   "execution_count": 8,
   "id": "a2952f75-f2d6-4b1a-85ca-5ae2ab69d6d5",
   "metadata": {},
   "outputs": [
    {
     "name": "stdout",
     "output_type": "stream",
     "text": [
      "The datatype of the column 'age' is 'int64'\n",
      "The datatype of the column 'gender' is 'object'\n",
      "The datatype of the column 'occupation' is 'object'\n",
      "The datatype of the column 'zip_code' is 'object'\n"
     ]
    }
   ],
   "source": [
    "types = users.dtypes\n",
    "keys = types.keys()\n",
    "for key in keys:\n",
    "    print(f\"The datatype of the column '{key}' is '{types[key]}'\")"
   ]
  },
  {
   "cell_type": "markdown",
   "id": "6b0cf10c-8b68-49db-8398-d7343442e314",
   "metadata": {},
   "source": [
    "# Step 11: Print only the occupation column"
   ]
  },
  {
   "cell_type": "code",
   "execution_count": 9,
   "id": "4e80465f-8290-494d-be7f-81685bd290bd",
   "metadata": {},
   "outputs": [
    {
     "data": {
      "text/plain": [
       "user_id\n",
       "1         technician\n",
       "2              other\n",
       "3             writer\n",
       "4         technician\n",
       "5              other\n",
       "           ...      \n",
       "939          student\n",
       "940    administrator\n",
       "941          student\n",
       "942        librarian\n",
       "943          student\n",
       "Name: occupation, Length: 943, dtype: object"
      ]
     },
     "execution_count": 9,
     "metadata": {},
     "output_type": "execute_result"
    }
   ],
   "source": [
    "users['occupation']"
   ]
  },
  {
   "cell_type": "markdown",
   "id": "2c63ef3a-ec82-44c5-aa54-1fa3132586a7",
   "metadata": {},
   "source": [
    "# Step 12: How many different occupations are in this dataset?"
   ]
  },
  {
   "cell_type": "code",
   "execution_count": 10,
   "id": "5b3cfc85-dd87-4f5d-a751-b69e3df64bc4",
   "metadata": {},
   "outputs": [
    {
     "name": "stdout",
     "output_type": "stream",
     "text": [
      "21\n"
     ]
    }
   ],
   "source": [
    "print(len(users['occupation'].unique()))"
   ]
  },
  {
   "cell_type": "markdown",
   "id": "d1154691-a3f8-40fe-82a3-93727bcf876c",
   "metadata": {},
   "source": [
    "# Step 13: What is the most frequent occupation?"
   ]
  },
  {
   "cell_type": "code",
   "execution_count": 11,
   "id": "c0f514dc-2a30-408b-ad12-2659ff153328",
   "metadata": {},
   "outputs": [
    {
     "data": {
      "text/plain": [
       "'student'"
      ]
     },
     "execution_count": 11,
     "metadata": {},
     "output_type": "execute_result"
    }
   ],
   "source": [
    "users['occupation'].value_counts().sort_values(ascending=False).keys()[0]"
   ]
  },
  {
   "cell_type": "markdown",
   "id": "1e3a8b96-bfce-4712-9fe0-4dc70e9a2d6d",
   "metadata": {},
   "source": [
    "# Step 14: Summarize the dataframe"
   ]
  },
  {
   "cell_type": "code",
   "execution_count": 12,
   "id": "ee061877-75b4-43b0-8ab1-c96c403ac05d",
   "metadata": {},
   "outputs": [
    {
     "data": {
      "text/html": [
       "<div>\n",
       "<style scoped>\n",
       "    .dataframe tbody tr th:only-of-type {\n",
       "        vertical-align: middle;\n",
       "    }\n",
       "\n",
       "    .dataframe tbody tr th {\n",
       "        vertical-align: top;\n",
       "    }\n",
       "\n",
       "    .dataframe thead th {\n",
       "        text-align: right;\n",
       "    }\n",
       "</style>\n",
       "<table border=\"1\" class=\"dataframe\">\n",
       "  <thead>\n",
       "    <tr style=\"text-align: right;\">\n",
       "      <th></th>\n",
       "      <th>age</th>\n",
       "    </tr>\n",
       "  </thead>\n",
       "  <tbody>\n",
       "    <tr>\n",
       "      <th>count</th>\n",
       "      <td>943.000000</td>\n",
       "    </tr>\n",
       "    <tr>\n",
       "      <th>mean</th>\n",
       "      <td>34.051962</td>\n",
       "    </tr>\n",
       "    <tr>\n",
       "      <th>std</th>\n",
       "      <td>12.192740</td>\n",
       "    </tr>\n",
       "    <tr>\n",
       "      <th>min</th>\n",
       "      <td>7.000000</td>\n",
       "    </tr>\n",
       "    <tr>\n",
       "      <th>25%</th>\n",
       "      <td>25.000000</td>\n",
       "    </tr>\n",
       "    <tr>\n",
       "      <th>50%</th>\n",
       "      <td>31.000000</td>\n",
       "    </tr>\n",
       "    <tr>\n",
       "      <th>75%</th>\n",
       "      <td>43.000000</td>\n",
       "    </tr>\n",
       "    <tr>\n",
       "      <th>max</th>\n",
       "      <td>73.000000</td>\n",
       "    </tr>\n",
       "  </tbody>\n",
       "</table>\n",
       "</div>"
      ],
      "text/plain": [
       "              age\n",
       "count  943.000000\n",
       "mean    34.051962\n",
       "std     12.192740\n",
       "min      7.000000\n",
       "25%     25.000000\n",
       "50%     31.000000\n",
       "75%     43.000000\n",
       "max     73.000000"
      ]
     },
     "execution_count": 12,
     "metadata": {},
     "output_type": "execute_result"
    }
   ],
   "source": [
    "users.describe()"
   ]
  },
  {
   "cell_type": "markdown",
   "id": "7d145967-5cd1-4dd5-b0ee-9cf011873054",
   "metadata": {},
   "source": [
    "# Step 15: Summarize all the columns"
   ]
  },
  {
   "cell_type": "code",
   "execution_count": 13,
   "id": "ffa3e718-eb7b-4b78-a1d1-59e7780a9580",
   "metadata": {},
   "outputs": [
    {
     "name": "stdout",
     "output_type": "stream",
     "text": [
      "Summary for column age\n",
      "count    943.000000\n",
      "mean      34.051962\n",
      "std       12.192740\n",
      "min        7.000000\n",
      "25%       25.000000\n",
      "50%       31.000000\n",
      "75%       43.000000\n",
      "max       73.000000\n",
      "Name: age, dtype: float64\n",
      "\n",
      "Summary for column gender\n",
      "count     943\n",
      "unique      2\n",
      "top         M\n",
      "freq      670\n",
      "Name: gender, dtype: object\n",
      "\n",
      "Summary for column occupation\n",
      "count         943\n",
      "unique         21\n",
      "top       student\n",
      "freq          196\n",
      "Name: occupation, dtype: object\n",
      "\n",
      "Summary for column zip_code\n",
      "count       943\n",
      "unique      795\n",
      "top       55414\n",
      "freq          9\n",
      "Name: zip_code, dtype: object\n",
      "\n"
     ]
    }
   ],
   "source": [
    "for column in users.columns:\n",
    "    print(f\"Summary for column {column}\")\n",
    "    print(users[column].describe())\n",
    "    print()"
   ]
  },
  {
   "cell_type": "markdown",
   "id": "4f560eff-d786-4916-92b9-2c8be50dd373",
   "metadata": {},
   "source": [
    "# Step 16: Summarize only the occupation column"
   ]
  },
  {
   "cell_type": "code",
   "execution_count": 14,
   "id": "d24a303e-1b2a-4807-b9ff-13f5cba7716b",
   "metadata": {},
   "outputs": [
    {
     "data": {
      "text/plain": [
       "count         943\n",
       "unique         21\n",
       "top       student\n",
       "freq          196\n",
       "Name: occupation, dtype: object"
      ]
     },
     "execution_count": 14,
     "metadata": {},
     "output_type": "execute_result"
    }
   ],
   "source": [
    "users['occupation'].describe()"
   ]
  },
  {
   "cell_type": "markdown",
   "id": "26dfa998-44d2-4f62-849e-85133b823962",
   "metadata": {},
   "source": [
    "# Step 17: What is the mean age of users?"
   ]
  },
  {
   "cell_type": "code",
   "execution_count": 15,
   "id": "42f39cbd-18f5-418e-8c55-5cc8297b381f",
   "metadata": {},
   "outputs": [
    {
     "data": {
      "text/plain": [
       "34.05196182396607"
      ]
     },
     "execution_count": 15,
     "metadata": {},
     "output_type": "execute_result"
    }
   ],
   "source": [
    "users['age'].mean()"
   ]
  },
  {
   "cell_type": "markdown",
   "id": "959928a3-ecb5-4838-88c4-e382d7a9b436",
   "metadata": {},
   "source": [
    "# Step 18: What is the age with the least occurence?"
   ]
  },
  {
   "cell_type": "code",
   "execution_count": 16,
   "id": "fc5ee357-6c98-4003-83e8-5e1928ca4ab4",
   "metadata": {},
   "outputs": [
    {
     "data": {
      "text/plain": [
       "73"
      ]
     },
     "execution_count": 16,
     "metadata": {},
     "output_type": "execute_result"
    }
   ],
   "source": [
    "users['age'].value_counts().sort_values().keys()[0]"
   ]
  },
  {
   "cell_type": "markdown",
   "id": "e4f65b3d-c8b8-4135-bddc-3d8243824fd7",
   "metadata": {},
   "source": [
    "# Step 19: Write a lambda function to convert a string column to a numerical column"
   ]
  },
  {
   "cell_type": "code",
   "execution_count": 17,
   "id": "f39db79e-8d17-4f68-a6cc-58858af6aaef",
   "metadata": {},
   "outputs": [],
   "source": [
    "str_to_int = lambda x : int(x)\n",
    "\n",
    "fancy_str_to_int = lambda x : int(x) if (type(x) is int) else None"
   ]
  },
  {
   "cell_type": "code",
   "execution_count": null,
   "id": "5ef1bba3-b5c7-4675-a2f9-b179f90bf5ac",
   "metadata": {},
   "outputs": [],
   "source": []
  }
 ],
 "metadata": {
  "kernelspec": {
   "display_name": "Python 3 (ipykernel)",
   "language": "python",
   "name": "python3"
  },
  "language_info": {
   "codemirror_mode": {
    "name": "ipython",
    "version": 3
   },
   "file_extension": ".py",
   "mimetype": "text/x-python",
   "name": "python",
   "nbconvert_exporter": "python",
   "pygments_lexer": "ipython3",
   "version": "3.10.2"
  }
 },
 "nbformat": 4,
 "nbformat_minor": 5
}
