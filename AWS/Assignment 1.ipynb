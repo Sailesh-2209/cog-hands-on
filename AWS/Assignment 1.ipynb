{
 "cells": [
  {
   "cell_type": "code",
   "execution_count": null,
   "id": "d4d6c533",
   "metadata": {},
   "outputs": [],
   "source": [
    "from sagemaker import get_execution_role\n",
    "import boto3\n",
    "\n",
    "role = get_execution_role()\n",
    "conn = boto3.client('s3')"
   ]
  },
  {
   "cell_type": "code",
   "execution_count": null,
   "id": "19bbee9f",
   "metadata": {},
   "outputs": [],
   "source": [
    "bucket = \"assignment-bucket-of-woes\"\n",
    "file = \"\"\n",
    "url = f\"s3://{bucket}/{file}\""
   ]
  },
  {
   "cell_type": "code",
   "execution_count": null,
   "id": "846158b4",
   "metadata": {},
   "outputs": [],
   "source": [
    "contents = conn.list_objects(Bucket=bucket)['Contents']"
   ]
  },
  {
   "cell_type": "code",
   "execution_count": null,
   "id": "12f6471b",
   "metadata": {},
   "outputs": [],
   "source": [
    "csv_files = [x['Key'] for x in contents if x['Key'].split(\".\")[-1] == \"csv\"]\n",
    "csv_files = [url + file_name for file_name in csv_files]\n",
    "csv_files"
   ]
  },
  {
   "cell_type": "code",
   "execution_count": null,
   "id": "ff6d8671",
   "metadata": {},
   "outputs": [],
   "source": [
    "import pandas as pd\n",
    "df = pd.concat(list(map(pd.read_csv, csv_files)), ignore_index=True)"
   ]
  },
  {
   "cell_type": "code",
   "execution_count": null,
   "id": "40b0d57e",
   "metadata": {},
   "outputs": [],
   "source": [
    "df.to_csv(\"combined_data.csv\")"
   ]
  },
  {
   "cell_type": "code",
   "execution_count": null,
   "id": "e6effd73",
   "metadata": {},
   "outputs": [],
   "source": [
    "conn.upload_file('combined_data.csv', bucket, 'combined_data.csv')"
   ]
  },
  {
   "cell_type": "code",
   "execution_count": null,
   "id": "cd6f67cf",
   "metadata": {},
   "outputs": [],
   "source": [
    "region_name = boto3.Session().region_name\n",
    "sagemaker_client = boto3.Session().client(\"sagemaker\")\n",
    "sub_folder_name = 'milkyway'"
   ]
  },
  {
   "cell_type": "code",
   "execution_count": null,
   "id": "b63ff9e5",
   "metadata": {},
   "outputs": [],
   "source": [
    "model_data = pd.get_dummies(df)"
   ]
  },
  {
   "cell_type": "code",
   "execution_count": null,
   "id": "77978873",
   "metadata": {},
   "outputs": [],
   "source": [
    "model_data.head()"
   ]
  },
  {
   "cell_type": "code",
   "execution_count": null,
   "id": "ed20ddf3",
   "metadata": {},
   "outputs": [],
   "source": [
    "import numpy as np\n",
    "train_data, validation_data, test_data = np.split(model_data.sample(), [int(0.6 * len(model_data)), int(0.8 * len(model_data))])"
   ]
  },
  {
   "cell_type": "code",
   "execution_count": null,
   "id": "466706af",
   "metadata": {},
   "outputs": [],
   "source": [
    "train_df = pd.concat([train_data['Count'], train_data.drop('Count', axis=1)])\n",
    "validation_df = pd.concat([validation_data['Count'], validation_data.drop('Count', axis=1)])\n",
    "test_df = pd.concat([test_data['Count'], test_data.drop('Count', axis=1)])"
   ]
  },
  {
   "cell_type": "code",
   "execution_count": null,
   "id": "b01e298a",
   "metadata": {},
   "outputs": [],
   "source": [
    "train_df.to_csv(\"train.csv\", index=False, header=False)\n",
    "validation_df.to_csv(\"validation.csv\", index=False, header=False)\n",
    "test_df.to_csv(\"test.csv\", index=False, header=False)"
   ]
  },
  {
   "cell_type": "code",
   "execution_count": null,
   "id": "8964c56a",
   "metadata": {},
   "outputs": [],
   "source": [
    "import os\n",
    "boto3.Session().resource('s3').Bucket(bucket).Object(os.path.join(sub_folder_name, \"train\", \"train.csv\")).upload_file(\"train.csv\")\n",
    "boto3.Session().resource('s3').Bucket(bucket).Object(os.path.join(sub_folder_name, \"validation\", \"validation.csv\")).upload_file(\"validation.csv\")\n",
    "boto3.Session().resource('s3').Bucket(bucket).Object(os.path.join(sub_folder_name, \"test\", \"test.csv\")).upload_file(\"test.csv\")"
   ]
  },
  {
   "cell_type": "code",
   "execution_count": null,
   "id": "24295bd3",
   "metadata": {},
   "outputs": [],
   "source": [
    "from sagemaker.inputs import TrainingInput"
   ]
  },
  {
   "cell_type": "code",
   "execution_count": null,
   "id": "0f8e167d",
   "metadata": {},
   "outputs": [],
   "source": [
    "training_input = TrainingInput(\n",
    "    s3_data=f\"{url}{sub_folder_name}/train\",\n",
    "    content_type=\"csv\"\n",
    ")"
   ]
  },
  {
   "cell_type": "code",
   "execution_count": null,
   "id": "78c048bc",
   "metadata": {},
   "outputs": [],
   "source": [
    "validation_input = TrainingInput(\n",
    "    s3_data=f\"{url}{sub_folder_name}/validation\",\n",
    "    content_type=\"csv\"\n",
    ")"
   ]
  },
  {
   "cell_type": "code",
   "execution_count": null,
   "id": "11986a3a",
   "metadata": {},
   "outputs": [],
   "source": [
    "from sagemaker.tuner import (\n",
    "    IntegerParameter,\n",
    "    CategoricalParameter,\n",
    "    ContinuousParameter,\n",
    "    HyperparameterTuner\n",
    ")"
   ]
  },
  {
   "cell_type": "code",
   "execution_count": null,
   "id": "950e23ee",
   "metadata": {},
   "outputs": [],
   "source": [
    "import sagemaker\n",
    "from sagemaker.amazon.amazon_estimator import get_image_uri\n",
    "from sagemaker.image_uris import retrieve\n",
    "\n",
    "sagemaker_session = sagemaker.Session()\n",
    "\n",
    "container = retrieve(\"xgboost\", region_name, \"latest\")"
   ]
  },
  {
   "cell_type": "code",
   "execution_count": null,
   "id": "05a11ad8",
   "metadata": {},
   "outputs": [],
   "source": [
    "xgb = sagemaker.estimator.Estimator(\n",
    "    container,\n",
    "    role,\n",
    "    base_job_name=\"xgboost-random-search\",\n",
    "    instance_count=1,\n",
    "    instance_type=\"ml.m4.xlarge\",\n",
    "    output_path=f\"{url}{sub_folder_name}/output\",\n",
    "    sagemaker_session=sess,\n",
    ")"
   ]
  },
  {
   "cell_type": "code",
   "execution_count": null,
   "id": "cd614478",
   "metadata": {},
   "outputs": [],
   "source": [
    "xgb.set_hyperparameters(\n",
    "    eval_metric=\"auc\",\n",
    "    objective=\"binary:logistic\",\n",
    "    num_round=10,\n",
    "    rate_drop=0.3,\n",
    "    tweedie_variance_power=1.4,\n",
    ")\n",
    "objective_metric_name = \"validation:auc\""
   ]
  },
  {
   "cell_type": "code",
   "execution_count": null,
   "id": "d4557cff",
   "metadata": {},
   "outputs": [],
   "source": [
    "hyperparameter_ranges = {\n",
    "    \"alpha\": ContinuousParameter(0.01, 10, scaling_type=\"Logarithmic\"),\n",
    "    \"lambda\": ContinuousParameter(0.01, 10, scaling_type=\"Logarithmic\"),\n",
    "}"
   ]
  },
  {
   "cell_type": "code",
   "execution_count": null,
   "id": "7fcbc1d6",
   "metadata": {},
   "outputs": [],
   "source": [
    "tuner_log = HyperparameterTuner(\n",
    "    xgb,\n",
    "    objective_metric_name,\n",
    "    hyperparameter_ranges,\n",
    "    max_jobs=5,\n",
    "    max_parallel_jobs=5,\n",
    "    strategy=\"Random\",\n",
    ")"
   ]
  },
  {
   "cell_type": "code",
   "execution_count": null,
   "id": "8d156897",
   "metadata": {},
   "outputs": [],
   "source": [
    "from time import strftime, gmtime\n",
    "tuner_log.fit(\n",
    "    {\"train\": training_input, \"validation\": validation_input},\n",
    "    include_cls_metadata=False,\n",
    "    job_name=\"xgb-randsearch-\" + strftime(\"%Y%m%d-%H-%M-%S\", gmtime()),\n",
    ")"
   ]
  },
  {
   "cell_type": "code",
   "execution_count": null,
   "id": "97a3fe2d",
   "metadata": {},
   "outputs": [],
   "source": [
    "boto3.client(\"sagemaker\").describe_hyper_parameter_tuning_job(\n",
    "    HyperParameterTuningJobName=tuner_log.latest_tuning_job.job_name\n",
    ")[\"HyperParameterTuningJobStatus\"]"
   ]
  },
  {
   "cell_type": "code",
   "execution_count": null,
   "id": "33e4d5c1",
   "metadata": {},
   "outputs": [],
   "source": [
    "hyperparameter_ranges_linear = {\n",
    "    \"alpha\": ContinuousParameter(0.01, 10, scaling_type=\"Linear\"),\n",
    "    \"lambda\": ContinuousParameter(0.01, 10, scaling_type=\"Linear\"),\n",
    "}"
   ]
  },
  {
   "cell_type": "code",
   "execution_count": null,
   "id": "59e4d63e",
   "metadata": {},
   "outputs": [],
   "source": [
    "tuner_linear = HyperparameterTuner(\n",
    "    xgb,\n",
    "    objective_metric_name,\n",
    "    hyperparameter_ranges_linear,\n",
    "    max_jobs=5,\n",
    "    max_parallel_jobs=5,\n",
    "    strategy=\"Random\",\n",
    ")"
   ]
  },
  {
   "cell_type": "code",
   "execution_count": null,
   "id": "b1e15b9f",
   "metadata": {},
   "outputs": [],
   "source": [
    "tuner_linear.fit(\n",
    "    {\"train\": s3_input_train, \"validation\": s3_input_validation},\n",
    "    include_cls_metadata=False,\n",
    "    job_name=\"xgb-linsearch-\" + strftime(\"%Y%m%d-%H-%M-%S\", gmtime()),\n",
    ")"
   ]
  },
  {
   "cell_type": "code",
   "execution_count": null,
   "id": "4c9acbcd",
   "metadata": {},
   "outputs": [],
   "source": [
    "boto3.client(\"sagemaker\").describe_hyper_parameter_tuning_job(\n",
    "    HyperParameterTuningJobName=tuner_linear.latest_tuning_job.job_name\n",
    ")[\"HyperParameterTuningJobStatus\"]"
   ]
  },
  {
   "cell_type": "code",
   "execution_count": null,
   "id": "d8cc64d7",
   "metadata": {},
   "outputs": [],
   "source": [
    "import seaborn as sns\n",
    "import pandas as pd\n",
    "import matplotlib.pyplot as plt\n",
    "status_log = boto3.client(\"sagemaker\").describe_hyper_parameter_tuning_job(\n",
    "    HyperParameterTuningJobName=tuner_log.latest_tuning_job.job_name\n",
    ")[\"HyperParameterTuningJobStatus\"]\n",
    "status_linear = boto3.client(\"sagemaker\").describe_hyper_parameter_tuning_job(\n",
    "    HyperParameterTuningJobName=tuner_linear.latest_tuning_job.job_name\n",
    ")[\"HyperParameterTuningJobStatus\"]\n",
    "assert status_log == \"Completed\", \"First must be completed, was {}\".format(status_log)\n",
    "assert status_linear == \"Completed\", \"Second must be completed, was {}\".format(status_linear)\n",
    "df_log = sagemaker.HyperparameterTuningJobAnalytics(\n",
    "    tuner_log.latest_tuning_job.job_name\n",
    ").dataframe()\n",
    "df_linear = sagemaker.HyperparameterTuningJobAnalytics(\n",
    "    tuner_linear.latest_tuning_job.job_name\n",
    ").dataframe()\n",
    "df_log[\"scaling\"] = \"log\"\n",
    "df_linear[\"scaling\"] = \"linear\"\n",
    "df = pd.concat([df_log, df_linear], ignore_index=True)"
   ]
  },
  {
   "cell_type": "code",
   "execution_count": null,
   "id": "f2593019",
   "metadata": {},
   "outputs": [],
   "source": [
    "predictor = tuner_linear.deploy(initial_instance_count=1, instance_type=\"ml.m4.xlarge\")"
   ]
  },
  {
   "cell_type": "code",
   "execution_count": null,
   "id": "1d772f2f",
   "metadata": {},
   "outputs": [],
   "source": [
    "sess.delete_endpoint(endpoint_name=predictor.endpoint_name)"
   ]
  }
 ],
 "metadata": {
  "kernelspec": {
   "display_name": "Python 3 (ipykernel)",
   "language": "python",
   "name": "python3"
  },
  "language_info": {
   "codemirror_mode": {
    "name": "ipython",
    "version": 3
   },
   "file_extension": ".py",
   "mimetype": "text/x-python",
   "name": "python",
   "nbconvert_exporter": "python",
   "pygments_lexer": "ipython3",
   "version": "3.10.4"
  }
 },
 "nbformat": 4,
 "nbformat_minor": 5
}
