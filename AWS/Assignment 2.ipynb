{
 "cells": [
  {
   "cell_type": "code",
   "execution_count": null,
   "id": "d2ad9fef",
   "metadata": {},
   "outputs": [],
   "source": [
    "!pip install nltk\n",
    "!pip3 install -U spacy==3.3.0\n",
    "!python3 -m spacy download en_core_web_lg"
   ]
  },
  {
   "cell_type": "code",
   "execution_count": null,
   "id": "6bf148f2",
   "metadata": {},
   "outputs": [],
   "source": [
    "import boto3\n",
    "import pandas as pd\n",
    "import io\n",
    "import numpy as np\n",
    "import spacy\n",
    "import matplotlib.pyplot as plt\n",
    "from sagemaker import get_execution_role"
   ]
  },
  {
   "cell_type": "code",
   "execution_count": null,
   "id": "140de71a",
   "metadata": {},
   "outputs": [],
   "source": [
    "role = get_execution_role()\n",
    "bucket = 'pavanawsnlp'\n",
    "s= boto3.client('s3')\n",
    "data =[]\n",
    "for i in range(1,5):\n",
    "    contents = s.get_object(Bucket=bucket, Key=str(i)+'.txt')\n",
    "    for f in contents['Body']:\n",
    "        data.append(f)"
   ]
  },
  {
   "cell_type": "code",
   "execution_count": null,
   "id": "b71d04a8",
   "metadata": {},
   "outputs": [],
   "source": [
    "import boto3\n",
    "import sagemaker"
   ]
  },
  {
   "cell_type": "code",
   "execution_count": null,
   "id": "f522e2c2",
   "metadata": {},
   "outputs": [],
   "source": [
    "bucket = \"assignment-2-nlp-bucket\"\n",
    "role = sagemaker.get_execution_role()\n",
    "conn = boto3.client('s3')\n",
    "url = f\"s3://{bucket}/\""
   ]
  },
  {
   "cell_type": "code",
   "execution_count": null,
   "id": "c13f6f8a",
   "metadata": {},
   "outputs": [],
   "source": [
    "text = \"\"\n",
    "contents = conn.list_objects(Bucket=bucket)['Body']\n",
    "for content in contents:\n",
    "    for words in contents:\n",
    "        text += words"
   ]
  },
  {
   "cell_type": "code",
   "execution_count": null,
   "id": "879ac670",
   "metadata": {},
   "outputs": [],
   "source": [
    "nlp = spacy.load('en_core_web_lg')"
   ]
  },
  {
   "cell_type": "code",
   "execution_count": null,
   "id": "4f245c91",
   "metadata": {},
   "outputs": [],
   "source": [
    "doc = nlp(text)"
   ]
  },
  {
   "cell_type": "code",
   "execution_count": null,
   "id": "0be4a350",
   "metadata": {},
   "outputs": [],
   "source": [
    "sentences = [str(sen) for sen in doc.sents]"
   ]
  },
  {
   "cell_type": "code",
   "execution_count": null,
   "id": "cc1625c2",
   "metadata": {},
   "outputs": [],
   "source": [
    "words_list = []\n",
    "\n",
    "for words in sentences:\n",
    "    for word in nlp(words):\n",
    "        words_list.append(word)"
   ]
  },
  {
   "cell_type": "code",
   "execution_count": null,
   "id": "bcbf0956",
   "metadata": {},
   "outputs": [],
   "source": [
    "import nltk\n",
    "from nltk.corpus import stopwords\n",
    "nltk.download('stopwords')\n",
    "nltk.download('punkt')"
   ]
  },
  {
   "cell_type": "code",
   "execution_count": null,
   "id": "ec6379f1",
   "metadata": {},
   "outputs": [],
   "source": [
    "filtered_words = [word for word in words if word not in stopwords.words('english')]"
   ]
  },
  {
   "cell_type": "code",
   "execution_count": null,
   "id": "48fa98d6",
   "metadata": {},
   "outputs": [],
   "source": [
    "from nltk import PorterStemmer\n",
    "from nltk.tokenize import word_tokenize\n",
    "\n",
    "word_stemmer = PorterStemmer()\n",
    "stemmed_words = list(map(word_stemmer.stem, filtered_words))"
   ]
  },
  {
   "cell_type": "code",
   "execution_count": null,
   "id": "7e29099e",
   "metadata": {},
   "outputs": [],
   "source": [
    "final_result = \" \".join(stemmed_words)\n",
    "results_dir = \"results_dir/\"\n",
    "results_file = \"results.txt\"\n",
    "with open(results_file) as f:\n",
    "    f.write(final_result)\n",
    "conn.put_object(Bucket=bucket, Key=results_dir)\n",
    "conn.upload(results_file, bucket, f\"{results_dir}{results_file})"
   ]
  },
  {
   "cell_type": "code",
   "execution_count": null,
   "id": "10634da3",
   "metadata": {},
   "outputs": [],
   "source": []
  },
  {
   "cell_type": "code",
   "execution_count": null,
   "id": "d29f7bbf",
   "metadata": {},
   "outputs": [],
   "source": []
  }
 ],
 "metadata": {
  "kernelspec": {
   "display_name": "Python 3 (ipykernel)",
   "language": "python",
   "name": "python3"
  },
  "language_info": {
   "codemirror_mode": {
    "name": "ipython",
    "version": 3
   },
   "file_extension": ".py",
   "mimetype": "text/x-python",
   "name": "python",
   "nbconvert_exporter": "python",
   "pygments_lexer": "ipython3",
   "version": "3.10.4"
  }
 },
 "nbformat": 4,
 "nbformat_minor": 5
}
